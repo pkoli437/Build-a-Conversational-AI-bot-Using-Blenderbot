{
 "cells": [
  {
   "cell_type": "markdown",
   "id": "33d8936a",
   "metadata": {},
   "source": [
    "# Install Dependencies"

   ]
  },
  {
   "cell_type": "code",
   "execution_count": 2,
   "id": "22f4983a",
   "metadata": {
    "scrolled": false
   },
   "outputs": [
    {
     "name": "stdout",
     "output_type": "stream",
     "text": [
      "Requirement already satisfied: transformers in c:\\users\\pruthvi koli\\anaconda3\\lib\\site-packages (4.22.1)"
     ]
    },
    {
     "name": "stderr",
     "output_type": "stream",
     "text": [
      "WARNING: Ignoring invalid distribution -ensorflow (c:\\users\\pruthvi koli\\anaconda3\\lib\\site-packages)\n",
      "WARNING: Ignoring invalid distribution -ensorflow (c:\\users\\pruthvi koli\\anaconda3\\lib\\site-packages)\n",
      "WARNING: Ignoring invalid distribution -ensorflow (c:\\users\\pruthvi koli\\anaconda3\\lib\\site-packages)\n",
      "WARNING: Ignoring invalid distribution -ensorflow (c:\\users\\pruthvi koli\\anaconda3\\lib\\site-packages)\n",
      "WARNING: Ignoring invalid distribution -ensorflow (c:\\users\\pruthvi koli\\anaconda3\\lib\\site-packages)\n",
      "WARNING: Ignoring invalid distribution -ensorflow (c:\\users\\pruthvi koli\\anaconda3\\lib\\site-packages)\n"
     ]
    },
    {
     "name": "stdout",
     "output_type": "stream",
     "text": [
      "\n",
      "Requirement already satisfied: packaging>=20.0 in c:\\users\\pruthvi koli\\anaconda3\\lib\\site-packages (from transformers) (21.3)\n",
      "Requirement already satisfied: tokenizers!=0.11.3,<0.13,>=0.11.1 in c:\\users\\pruthvi koli\\anaconda3\\lib\\site-packages (from transformers) (0.12.1)\n",
      "Requirement already satisfied: pyyaml>=5.1 in c:\\users\\pruthvi koli\\anaconda3\\lib\\site-packages (from transformers) (6.0)\n",
      "Requirement already satisfied: regex!=2019.12.17 in c:\\users\\pruthvi koli\\anaconda3\\lib\\site-packages (from transformers) (2022.3.15)\n",
      "Requirement already satisfied: numpy>=1.17 in c:\\users\\pruthvi koli\\anaconda3\\lib\\site-packages (from transformers) (1.21.5)\n",
      "Requirement already satisfied: tqdm>=4.27 in c:\\users\\pruthvi koli\\anaconda3\\lib\\site-packages (from transformers) (4.64.0)\n",
      "Requirement already satisfied: requests in c:\\users\\pruthvi koli\\anaconda3\\lib\\site-packages (from transformers) (2.27.1)\n",
      "Requirement already satisfied: filelock in c:\\users\\pruthvi koli\\anaconda3\\lib\\site-packages (from transformers) (3.6.0)\n",
      "Requirement already satisfied: huggingface-hub<1.0,>=0.9.0 in c:\\users\\pruthvi koli\\anaconda3\\lib\\site-packages (from transformers) (0.9.1)\n",
      "Requirement already satisfied: typing-extensions>=3.7.4.3 in c:\\users\\pruthvi koli\\anaconda3\\lib\\site-packages (from huggingface-hub<1.0,>=0.9.0->transformers) (4.1.1)\n",
      "Requirement already satisfied: pyparsing!=3.0.5,>=2.0.2 in c:\\users\\pruthvi koli\\anaconda3\\lib\\site-packages (from packaging>=20.0->transformers) (3.0.4)\n",
      "Requirement already satisfied: colorama in c:\\users\\pruthvi koli\\anaconda3\\lib\\site-packages (from tqdm>=4.27->transformers) (0.4.4)\n",
      "Requirement already satisfied: urllib3<1.27,>=1.21.1 in c:\\users\\pruthvi koli\\anaconda3\\lib\\site-packages (from requests->transformers) (1.26.9)\n",
      "Requirement already satisfied: charset-normalizer~=2.0.0 in c:\\users\\pruthvi koli\\anaconda3\\lib\\site-packages (from requests->transformers) (2.0.4)\n",
      "Requirement already satisfied: idna<4,>=2.5 in c:\\users\\pruthvi koli\\anaconda3\\lib\\site-packages (from requests->transformers) (3.3)\n",
      "Requirement already satisfied: certifi>=2017.4.17 in c:\\users\\pruthvi koli\\anaconda3\\lib\\site-packages (from requests->transformers) (2021.10.8)\n"
     ]
    }
   ],
   "source": [
    "!pip install transformers"
   ]
  },
  {
   "cell_type": "code",
   "execution_count": 3,
   "id": "cbcc0dfe",
   "metadata": {},
   "outputs": [
    {
     "name": "stdout",
     "output_type": "stream",
     "text": [
      "Looking in indexes: https://pypi.org/simple, https://download.pytorch.org/whl/cu11\n",
      "Requirement already satisfied: torch in c:\\users\\pruthvi koli\\anaconda3\\lib\\site-packages (1.12.1)\n",
      "Requirement already satisfied: torchvision in c:\\users\\pruthvi koli\\anaconda3\\lib\\site-packages (0.13.1)\n",
      "Requirement already satisfied: torchaudio in c:\\users\\pruthvi koli\\anaconda3\\lib\\site-packages (0.12.1)\n",
      "Requirement already satisfied: typing-extensions in c:\\users\\pruthvi koli\\anaconda3\\lib\\site-packages (from torch) (4.1.1)\n",
      "Requirement already satisfied: requests in c:\\users\\pruthvi koli\\anaconda3\\lib\\site-packages (from torchvision) (2.27.1)\n",
      "Requirement already satisfied: numpy in c:\\users\\pruthvi koli\\anaconda3\\lib\\site-packages (from torchvision) (1.21.5)\n",
      "Requirement already satisfied: pillow!=8.3.*,>=5.3.0 in c:\\users\\pruthvi koli\\anaconda3\\lib\\site-packages (from torchvision) (9.0.1)\n",
      "Requirement already satisfied: idna<4,>=2.5 in c:\\users\\pruthvi koli\\anaconda3\\lib\\site-packages (from requests->torchvision) (3.3)\n",
      "Requirement already satisfied: certifi>=2017.4.17 in c:\\users\\pruthvi koli\\anaconda3\\lib\\site-packages (from requests->torchvision) (2021.10.8)\n",
      "Requirement already satisfied: charset-normalizer~=2.0.0 in c:\\users\\pruthvi koli\\anaconda3\\lib\\site-packages (from requests->torchvision) (2.0.4)\n",
      "Requirement already satisfied: urllib3<1.27,>=1.21.1 in c:\\users\\pruthvi koli\\anaconda3\\lib\\site-packages (from requests->torchvision) (1.26.9)\n",
      "Note: you may need to restart the kernel to use updated packages.\n"
     ]
    },
    {
     "name": "stderr",
     "output_type": "stream",
     "text": [
      "WARNING: Ignoring invalid distribution -ensorflow (c:\\users\\pruthvi koli\\anaconda3\\lib\\site-packages)\n",
      "WARNING: Ignoring invalid distribution -ensorflow (c:\\users\\pruthvi koli\\anaconda3\\lib\\site-packages)\n",
      "WARNING: Ignoring invalid distribution -ensorflow (c:\\users\\pruthvi koli\\anaconda3\\lib\\site-packages)\n",
      "WARNING: Ignoring invalid distribution -ensorflow (c:\\users\\pruthvi koli\\anaconda3\\lib\\site-packages)\n",
      "WARNING: Ignoring invalid distribution -ensorflow (c:\\users\\pruthvi koli\\anaconda3\\lib\\site-packages)\n",
      "WARNING: Ignoring invalid distribution -ensorflow (c:\\users\\pruthvi koli\\anaconda3\\lib\\site-packages)\n"
     ]
    }
   ],
   "source": [
    "pip install torch torchvision torchaudio --extra-index-url https://download.pytorch.org/whl/cu11"
   ]
  },
  {
   "cell_type": "markdown",
   "id": "faa1bfca",
   "metadata": {},
   "source": [
    "# Import Model"
   ]
  },
  {
   "cell_type": "code",
   "execution_count": 4,
   "id": "4a7c5831",
   "metadata": {
    "scrolled": true
   },
   "outputs": [],
   "source": [
    "from transformers import BlenderbotTokenizer, BlenderbotForConditionalGeneration"
   ]
  },
  {
   "cell_type": "code",
   "execution_count": 5,
   "id": "1af1b1ec",
   "metadata": {
    "scrolled": false
   },
   "outputs": [],
   "source": [
    "Jarvis = 'facebook/blenderbot-400M-distill'\n",
    "tokenizer = BlenderbotTokenizer.from_pretrained(Jarvis)\n",
    "model = BlenderbotForConditionalGeneration.from_pretrained(Jarvis)"
   ]
  },
  {
   "cell_type": "markdown",
   "id": "6c454f3d",
   "metadata": {},
   "source": [
    "# Chat with your model"
    
   ]
  },
  {
   "cell_type": "code",
   "execution_count": 26,
   "id": "ff9d9adc",
   "metadata": {},
   "outputs": [],
   "source": [
    "#making an utterance \n",
    "#an utterance is like a sentence used to begin the conversation with the \n",
    "#conversation agent (like hey google).\n",
    "hey = \"Do you like humans? , What is your name?\""
   ]
  },
  {
   "cell_type": "code",
   "execution_count": 30,
   "id": "474d2a5b",
   "metadata": {},
   "outputs": [],
   "source": [
    "#tokenize the utterance \n",
    "#Next, we are going to turn the utterance into a token so the model can process it.\n",
    "inputs = tokenizer(hey, return_tensors=\"pt\")"
   ]
  },
  {
   "cell_type": "code",
   "execution_count": 31,
   "id": "ed84e9be",
   "metadata": {},
   "outputs": [],
   "source": [
    "#generate model results \n",
    "result = model.generate(**inputs)"
   ]
  },
  {
   "cell_type": "code",
   "execution_count": 32,
   "id": "dcfcfd18",
   "metadata": {},
   "outputs": [
    {
     "data": {
      "text/plain": [
       "\"<s> I do like humans, but I don't have a name yet. I'm still trying to figure it out.</s>\""
      ]
     },
     "execution_count": 32,
     "metadata": {},
     "output_type": "execute_result"
    }
   ],
   "source": [
    "#Remember our result response is still in the form of a PyTorch Tensor \n",
    "#so now we are going to decode it back to a human-readable form (Natural Language).\n",
    "tokenizer.decode(result[0])"
   ]
  },
  {
   "cell_type": "code",
   "execution_count": null,
   "id": "79ec0ff3",
   "metadata": {},
   "outputs": [],
   "source": []
  }
 ],
 "metadata": {
  "kernelspec": {
   "display_name": "Python 3 (ipykernel)",
   "language": "python",
   "name": "python3"
  },
  "language_info": {
   "codemirror_mode": {
    "name": "ipython",
    "version": 3
   },
   "file_extension": ".py",
   "mimetype": "text/x-python",
   "name": "python",
   "nbconvert_exporter": "python",
   "pygments_lexer": "ipython3",
   "version": "3.9.12"
  }
 },
 "nbformat": 4,
 "nbformat_minor": 5
}
